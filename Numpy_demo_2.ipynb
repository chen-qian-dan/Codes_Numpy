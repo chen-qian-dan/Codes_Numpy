{
 "cells": [
  {
   "cell_type": "markdown",
   "metadata": {},
   "source": [
    "# Array Manipulation"
   ]
  },
  {
   "cell_type": "markdown",
   "metadata": {},
   "source": [
    "# Array Manipulation - changing shape"
   ]
  },
  {
   "cell_type": "code",
   "execution_count": 1,
   "metadata": {},
   "outputs": [
    {
     "name": "stdout",
     "output_type": "stream",
     "text": [
      "[0 1 2 3 4 5 6 7 8]\n",
      "\n",
      "[[0 1 2]\n",
      " [3 4 5]\n",
      " [6 7 8]]\n"
     ]
    }
   ],
   "source": [
    "import numpy as np\n",
    "\n",
    "a = np.arange(9)\n",
    "print(a)\n",
    "print()\n",
    "\n",
    "b = a.reshape(3, 3)\n",
    "print(b)"
   ]
  },
  {
   "cell_type": "code",
   "execution_count": 2,
   "metadata": {},
   "outputs": [
    {
     "name": "stdout",
     "output_type": "stream",
     "text": [
      "[[0 1 2]\n",
      " [3 4 5]\n",
      " [6 7 8]]\n",
      "\n",
      "[0 1 2 3 4 5 6 7 8]\n"
     ]
    }
   ],
   "source": [
    "print(b)\n",
    "print()\n",
    "c = b.flatten()\n",
    "print(c)"
   ]
  },
  {
   "cell_type": "code",
   "execution_count": 3,
   "metadata": {},
   "outputs": [
    {
     "name": "stdout",
     "output_type": "stream",
     "text": [
      "[0 3 6 1 4 7 2 5 8]\n"
     ]
    }
   ],
   "source": [
    "c = b.flatten(order = 'F')\n",
    "print(c)"
   ]
  },
  {
   "cell_type": "code",
   "execution_count": 4,
   "metadata": {},
   "outputs": [
    {
     "name": "stdout",
     "output_type": "stream",
     "text": [
      "[[ 0  1  2]\n",
      " [ 3  4  5]\n",
      " [ 6  7  8]\n",
      " [ 9 10 11]]\n"
     ]
    }
   ],
   "source": [
    "a = np.arange(12).reshape(4, 3)\n",
    "print(a)"
   ]
  },
  {
   "cell_type": "code",
   "execution_count": 5,
   "metadata": {},
   "outputs": [
    {
     "name": "stdout",
     "output_type": "stream",
     "text": [
      "[[ 0  1  2]\n",
      " [ 3  4  5]\n",
      " [ 6  7  8]\n",
      " [ 9 10 11]]\n",
      "\n",
      "[[ 0  3  6  9]\n",
      " [ 1  4  7 10]\n",
      " [ 2  5  8 11]]\n"
     ]
    }
   ],
   "source": [
    "print(a)\n",
    "print()\n",
    "b = np.transpose(a)\n",
    "print(b)"
   ]
  },
  {
   "cell_type": "code",
   "execution_count": 6,
   "metadata": {},
   "outputs": [
    {
     "name": "stdout",
     "output_type": "stream",
     "text": [
      "[[0 1 2 3]\n",
      " [4 5 6 7]]\n"
     ]
    }
   ],
   "source": [
    "b = np.arange(8).reshape(2, 4)\n",
    "print(b)"
   ]
  },
  {
   "cell_type": "code",
   "execution_count": 7,
   "metadata": {},
   "outputs": [
    {
     "name": "stdout",
     "output_type": "stream",
     "text": [
      "[[[0 1]\n",
      "  [2 3]]\n",
      "\n",
      " [[4 5]\n",
      "  [6 7]]]\n"
     ]
    }
   ],
   "source": [
    "c = b.reshape(2, 2, 2)\n",
    "print(c)"
   ]
  },
  {
   "cell_type": "code",
   "execution_count": 8,
   "metadata": {},
   "outputs": [
    {
     "name": "stdout",
     "output_type": "stream",
     "text": [
      "[[[0 1]\n",
      "  [2 3]]\n",
      "\n",
      " [[4 5]\n",
      "  [6 7]]]\n",
      "\n"
     ]
    },
    {
     "data": {
      "text/plain": [
       "array([[[0, 2],\n",
       "        [1, 3]],\n",
       "\n",
       "       [[4, 6],\n",
       "        [5, 7]]])"
      ]
     },
     "execution_count": 8,
     "metadata": {},
     "output_type": "execute_result"
    }
   ],
   "source": [
    "print(c)\n",
    "print()\n",
    "np.rollaxis(c, 2, 1)"
   ]
  },
  {
   "cell_type": "code",
   "execution_count": 9,
   "metadata": {},
   "outputs": [
    {
     "data": {
      "text/plain": [
       "array([[[0, 1],\n",
       "        [4, 5]],\n",
       "\n",
       "       [[2, 3],\n",
       "        [6, 7]]])"
      ]
     },
     "execution_count": 9,
     "metadata": {},
     "output_type": "execute_result"
    }
   ],
   "source": [
    "np.rollaxis(c,1)"
   ]
  },
  {
   "cell_type": "code",
   "execution_count": 10,
   "metadata": {},
   "outputs": [
    {
     "name": "stdout",
     "output_type": "stream",
     "text": [
      "[[[0 1]\n",
      "  [2 3]]\n",
      "\n",
      " [[4 5]\n",
      "  [6 7]]]\n",
      "\n"
     ]
    },
    {
     "data": {
      "text/plain": [
       "array([[[0, 2],\n",
       "        [1, 3]],\n",
       "\n",
       "       [[4, 6],\n",
       "        [5, 7]]])"
      ]
     },
     "execution_count": 10,
     "metadata": {},
     "output_type": "execute_result"
    }
   ],
   "source": [
    "print(c)\n",
    "print()\n",
    "np.swapaxes(c, 1, 2)"
   ]
  },
  {
   "cell_type": "code",
   "execution_count": 11,
   "metadata": {},
   "outputs": [
    {
     "data": {
      "text/plain": [
       "array([[[0, 2],\n",
       "        [1, 3]],\n",
       "\n",
       "       [[4, 6],\n",
       "        [5, 7]]])"
      ]
     },
     "execution_count": 11,
     "metadata": {},
     "output_type": "execute_result"
    }
   ],
   "source": [
    "np.swapaxes(c, 2, 1)"
   ]
  },
  {
   "cell_type": "markdown",
   "metadata": {},
   "source": [
    "# Numpy Arithematic Operations"
   ]
  },
  {
   "cell_type": "code",
   "execution_count": 12,
   "metadata": {},
   "outputs": [
    {
     "name": "stdout",
     "output_type": "stream",
     "text": [
      "[[0 1 2]\n",
      " [3 4 5]\n",
      " [6 7 8]]\n"
     ]
    }
   ],
   "source": [
    "a = np.arange(9).reshape(3, 3)\n",
    "print(a)"
   ]
  },
  {
   "cell_type": "code",
   "execution_count": 13,
   "metadata": {},
   "outputs": [
    {
     "name": "stdout",
     "output_type": "stream",
     "text": [
      "[[10 10 10]\n",
      " [10 10 10]\n",
      " [10 10 10]]\n"
     ]
    }
   ],
   "source": [
    "b = np.array([[10, 10, 10], [10, 10, 10], [10, 10, 10]])\n",
    "print(b)"
   ]
  },
  {
   "cell_type": "code",
   "execution_count": 14,
   "metadata": {},
   "outputs": [
    {
     "data": {
      "text/plain": [
       "array([[10, 11, 12],\n",
       "       [13, 14, 15],\n",
       "       [16, 17, 18]])"
      ]
     },
     "execution_count": 14,
     "metadata": {},
     "output_type": "execute_result"
    }
   ],
   "source": [
    "np.add(a, b)"
   ]
  },
  {
   "cell_type": "code",
   "execution_count": 15,
   "metadata": {},
   "outputs": [
    {
     "name": "stdout",
     "output_type": "stream",
     "text": [
      "[[0 1 2]\n",
      " [3 4 5]\n",
      " [6 7 8]]\n",
      "\n",
      "[[10 10 10]\n",
      " [10 10 10]\n",
      " [10 10 10]]\n",
      "\n",
      "[[-10  -9  -8]\n",
      " [ -7  -6  -5]\n",
      " [ -4  -3  -2]]\n"
     ]
    }
   ],
   "source": [
    "print(a)\n",
    "print()\n",
    "print(b)\n",
    "print()\n",
    "print(np.subtract(a, b))"
   ]
  },
  {
   "cell_type": "code",
   "execution_count": 16,
   "metadata": {},
   "outputs": [
    {
     "name": "stdout",
     "output_type": "stream",
     "text": [
      "[[0 1 2]\n",
      " [3 4 5]\n",
      " [6 7 8]]\n",
      "\n",
      "[[10 10 10]\n",
      " [10 10 10]\n",
      " [10 10 10]]\n",
      "\n",
      "[[ 0 10 20]\n",
      " [30 40 50]\n",
      " [60 70 80]]\n"
     ]
    }
   ],
   "source": [
    "print(a)\n",
    "print()\n",
    "print(b)\n",
    "print()\n",
    "print(np.multiply(a, b))"
   ]
  },
  {
   "cell_type": "code",
   "execution_count": 17,
   "metadata": {},
   "outputs": [
    {
     "name": "stdout",
     "output_type": "stream",
     "text": [
      "[[0 1 2]\n",
      " [3 4 5]\n",
      " [6 7 8]]\n",
      "\n",
      "[[10 10 10]\n",
      " [10 10 10]\n",
      " [10 10 10]]\n",
      "\n",
      "[[0.  0.1 0.2]\n",
      " [0.3 0.4 0.5]\n",
      " [0.6 0.7 0.8]]\n"
     ]
    }
   ],
   "source": [
    "print(a)\n",
    "print()\n",
    "print(b)\n",
    "print()\n",
    "print(np.divide(a, b))"
   ]
  },
  {
   "cell_type": "markdown",
   "metadata": {},
   "source": [
    "# Slicing"
   ]
  },
  {
   "cell_type": "code",
   "execution_count": 18,
   "metadata": {},
   "outputs": [
    {
     "name": "stdout",
     "output_type": "stream",
     "text": [
      "[ 0  1  2  3  4  5  6  7  8  9 10 11 12 13 14 15 16 17 18 19]\n"
     ]
    }
   ],
   "source": [
    "a = np.arange(20)\n",
    "print(a)"
   ]
  },
  {
   "cell_type": "code",
   "execution_count": 19,
   "metadata": {},
   "outputs": [
    {
     "name": "stdout",
     "output_type": "stream",
     "text": [
      "[ 4  5  6  7  8  9 10 11 12 13 14 15 16 17 18 19]\n"
     ]
    }
   ],
   "source": [
    "print(a[4:])"
   ]
  },
  {
   "cell_type": "code",
   "execution_count": 20,
   "metadata": {},
   "outputs": [
    {
     "name": "stdout",
     "output_type": "stream",
     "text": [
      "[ 0  1  2  3  4  5  6  7  8  9 10 11 12 13 14 15 16 17 18 19]\n",
      "\n",
      "[2 4 6 8]\n"
     ]
    }
   ],
   "source": [
    "# 2: first indexId I want\n",
    "# 9: first indexId I don't want\n",
    "# 2: step = 2\n",
    "print(a)\n",
    "print()\n",
    "s = slice(2, 9, 2)\n",
    "print(a[s])"
   ]
  },
  {
   "cell_type": "markdown",
   "metadata": {},
   "source": [
    "# Iterating Over Array"
   ]
  },
  {
   "cell_type": "code",
   "execution_count": 21,
   "metadata": {},
   "outputs": [
    {
     "name": "stdout",
     "output_type": "stream",
     "text": [
      "[ 0  5 10 15 20 25 30 35 40]\n",
      "[[ 0  5 10]\n",
      " [15 20 25]\n",
      " [30 35 40]]\n"
     ]
    }
   ],
   "source": [
    "a = np.arange(0, 45, 5)\n",
    "print(a)\n",
    "a = a.reshape(3,3)\n",
    "print(a)"
   ]
  },
  {
   "cell_type": "code",
   "execution_count": 22,
   "metadata": {},
   "outputs": [
    {
     "name": "stdout",
     "output_type": "stream",
     "text": [
      "[[ 0  5 10]\n",
      " [15 20 25]\n",
      " [30 35 40]]\n",
      "0\n",
      "5\n",
      "10\n",
      "15\n",
      "20\n",
      "25\n",
      "30\n",
      "35\n",
      "40\n"
     ]
    }
   ],
   "source": [
    "print(a)\n",
    "for x in np.nditer(a):\n",
    "    print(x)"
   ]
  },
  {
   "cell_type": "markdown",
   "metadata": {},
   "source": [
    "# Iteration order (c-style and f-style)"
   ]
  },
  {
   "cell_type": "code",
   "execution_count": 23,
   "metadata": {},
   "outputs": [
    {
     "name": "stdout",
     "output_type": "stream",
     "text": [
      "[[ 0  5 10]\n",
      " [15 20 25]\n",
      " [30 35 40]]\n",
      "0\n",
      "5\n",
      "10\n",
      "15\n",
      "20\n",
      "25\n",
      "30\n",
      "35\n",
      "40\n"
     ]
    }
   ],
   "source": [
    "print(a)\n",
    "for x in np.nditer(a, order = \"C\"):\n",
    "    print(x)"
   ]
  },
  {
   "cell_type": "code",
   "execution_count": 24,
   "metadata": {},
   "outputs": [
    {
     "name": "stdout",
     "output_type": "stream",
     "text": [
      "[[ 0  5 10]\n",
      " [15 20 25]\n",
      " [30 35 40]]\n",
      "0\n",
      "15\n",
      "30\n",
      "5\n",
      "20\n",
      "35\n",
      "10\n",
      "25\n",
      "40\n"
     ]
    }
   ],
   "source": [
    "print(a)\n",
    "for x in np.nditer(a, order = \"F\"):\n",
    "    print(x)"
   ]
  },
  {
   "cell_type": "code",
   "execution_count": 25,
   "metadata": {},
   "outputs": [
    {
     "name": "stdout",
     "output_type": "stream",
     "text": [
      "[[1 2]\n",
      " [3 4]]\n",
      "---------------------\n",
      "[[5 6]\n",
      " [7 8]]\n",
      "\n",
      "\n",
      "[[1 2]\n",
      " [3 4]\n",
      " [5 6]\n",
      " [7 8]]\n",
      "\n",
      "\n",
      "[1 2 3 4]\n"
     ]
    }
   ],
   "source": [
    "a = np.array([[1, 2], [3, 4]])\n",
    "print(a)\n",
    "print(\"---------------------\")\n",
    "b = np.array([[5, 6], [7, 8]])\n",
    "print(b)\n",
    "print(\"\\n\")\n",
    "print(np.concatenate((a, b)))\n",
    "print(\"\\n\")\n",
    "print(np.concatenate(([1, 2], [3, 4])))"
   ]
  },
  {
   "cell_type": "code",
   "execution_count": 26,
   "metadata": {},
   "outputs": [
    {
     "name": "stdout",
     "output_type": "stream",
     "text": [
      "[[1 2]\n",
      " [3 4]]\n",
      "---------------------\n",
      "[[5 6]\n",
      " [7 8]]\n",
      "---------------------\n",
      "[[1 2 5 6]\n",
      " [3 4 7 8]]\n"
     ]
    }
   ],
   "source": [
    "a = np.array([[1, 2], [3, 4]])\n",
    "b = np.array([[5, 6], [7, 8]])\n",
    "print(a)\n",
    "print(\"---------------------\")\n",
    "print(b)\n",
    "print(\"---------------------\")\n",
    "print(np.concatenate((a, b), axis = 1))"
   ]
  },
  {
   "cell_type": "markdown",
   "metadata": {},
   "source": [
    "# Splitting array"
   ]
  },
  {
   "cell_type": "code",
   "execution_count": 27,
   "metadata": {},
   "outputs": [
    {
     "name": "stdout",
     "output_type": "stream",
     "text": [
      "[0 1 2 3 4 5 6 7 8]\n"
     ]
    },
    {
     "data": {
      "text/plain": [
       "[array([0, 1, 2]), array([3, 4, 5]), array([6, 7, 8])]"
      ]
     },
     "execution_count": 27,
     "metadata": {},
     "output_type": "execute_result"
    }
   ],
   "source": [
    "a = np.arange(9)\n",
    "print(a)\n",
    "np.split(a, 3)"
   ]
  },
  {
   "cell_type": "code",
   "execution_count": 28,
   "metadata": {},
   "outputs": [
    {
     "name": "stdout",
     "output_type": "stream",
     "text": [
      "[0 1 2 3 4 5 6 7 8]\n"
     ]
    },
    {
     "data": {
      "text/plain": [
       "[array([0, 1, 2, 3]), array([4]), array([5, 6, 7, 8])]"
      ]
     },
     "execution_count": 28,
     "metadata": {},
     "output_type": "execute_result"
    }
   ],
   "source": [
    "print(a)\n",
    "np.split(a, [4, 5])"
   ]
  },
  {
   "cell_type": "code",
   "execution_count": 29,
   "metadata": {},
   "outputs": [
    {
     "name": "stdout",
     "output_type": "stream",
     "text": [
      "[0 1 2 3 4 5 6 7 8]\n"
     ]
    },
    {
     "data": {
      "text/plain": [
       "[array([0, 1, 2, 3]), array([4, 5, 6]), array([7, 8])]"
      ]
     },
     "execution_count": 29,
     "metadata": {},
     "output_type": "execute_result"
    }
   ],
   "source": [
    "print(a)\n",
    "np.split(a, [4, 7])"
   ]
  },
  {
   "cell_type": "markdown",
   "metadata": {},
   "source": [
    "# resizing an array"
   ]
  },
  {
   "cell_type": "code",
   "execution_count": 30,
   "metadata": {},
   "outputs": [
    {
     "name": "stdout",
     "output_type": "stream",
     "text": [
      "[[1 2 3]\n",
      " [4 5 6]]\n",
      "\n",
      "\n",
      "(2, 3)\n",
      "\n",
      "\n",
      "[[1 2 3]\n",
      " [4 5 6]\n",
      " [1 2 3]]\n",
      "\n",
      "\n",
      "(3, 3)\n"
     ]
    }
   ],
   "source": [
    "a = np.array([[1, 2, 3], [4, 5, 6]])\n",
    "print(a)\n",
    "print(\"\\n\")\n",
    "print(a.shape)\n",
    "print(\"\\n\")\n",
    "b = np.resize(a, (3, 3))\n",
    "print(b)\n",
    "print(\"\\n\")\n",
    "print(b.shape)"
   ]
  },
  {
   "cell_type": "markdown",
   "metadata": {},
   "source": [
    "# historgram"
   ]
  },
  {
   "cell_type": "code",
   "execution_count": 31,
   "metadata": {},
   "outputs": [
    {
     "data": {
      "text/plain": [
       "<Figure size 640x480 with 1 Axes>"
      ]
     },
     "metadata": {},
     "output_type": "display_data"
    }
   ],
   "source": [
    "from matplotlib import pyplot as plt\n",
    "a = np.array([20, 87, 4, 40, 53, 74, 56, 51, 11, 20, 40, 15, 79, 25, 27])\n",
    "plt.hist(a, bins = [0, 20, 40, 60, 80, 100])\n",
    "plt.title(\"histogram\")\n",
    "plt.show()"
   ]
  },
  {
   "cell_type": "code",
   "execution_count": 32,
   "metadata": {},
   "outputs": [
    {
     "name": "stdout",
     "output_type": "stream",
     "text": [
      "[20 87  4 40 53 74 56 51 11 20 40 15 79 25 27]\n"
     ]
    },
    {
     "data": {
      "image/png": "[encoded data removed]",
      "text/plain": [
       "<Figure size 432x288 with 1 Axes>"
      ]
     },
     "metadata": {
      "needs_background": "light"
     },
     "output_type": "display_data"
    }
   ],
   "source": [
    "print(a)\n",
    "plt.hist(a, bins = [0, 10, 20, 30, 40, 50, 60, 70, 80, 90, 100])\n",
    "plt.title(\"histogram\")\n",
    "plt.show()"
   ]
  },
  {
   "cell_type": "markdown",
   "metadata": {},
   "source": [
    "# Other useful functions in Numpy"
   ]
  },
  {
   "cell_type": "code",
   "execution_count": 33,
   "metadata": {},
   "outputs": [
    {
     "name": "stdout",
     "output_type": "stream",
     "text": [
      "[1.         1.22222222 1.44444444 1.66666667 1.88888889 2.11111111\n",
      " 2.33333333 2.55555556 2.77777778 3.        ]\n"
     ]
    }
   ],
   "source": [
    "# linespace function\n",
    "\n",
    "a = np.linspace(1, 3, 10)\n",
    "print(a)"
   ]
  },
  {
   "cell_type": "code",
   "execution_count": 35,
   "metadata": {},
   "outputs": [
    {
     "name": "stdout",
     "output_type": "stream",
     "text": [
      "[[1 2 3]\n",
      " [3 4 5]]\n",
      "\n",
      "[4 6 8]\n",
      "\n",
      "[ 6 12]\n"
     ]
    }
   ],
   "source": [
    "# sum and axis\n",
    "\n",
    "a = np.array([(1, 2, 3), (3, 4, 5)])\n",
    "print(a)\n",
    "print()\n",
    "print(a.sum(axis = 0)) # columns\n",
    "print()\n",
    "print(a.sum(axis = 1)) # row"
   ]
  },
  {
   "cell_type": "code",
   "execution_count": 36,
   "metadata": {},
   "outputs": [
    {
     "name": "stdout",
     "output_type": "stream",
     "text": [
      "[[1.         1.41421356 1.73205081]\n",
      " [1.73205081 2.         2.23606798]]\n",
      "\n",
      "1.2909944487358056\n"
     ]
    }
   ],
   "source": [
    "# square root and standard deviation\n",
    "\n",
    "a = np.array([(1, 2, 3), (3, 4, 5)])\n",
    "print(np.sqrt(a))\n",
    "print()\n",
    "print(np.std(a))"
   ]
  },
  {
   "cell_type": "code",
   "execution_count": 38,
   "metadata": {},
   "outputs": [
    {
     "name": "stdout",
     "output_type": "stream",
     "text": [
      "[[1 2 3]\n",
      " [3 4 5]]\n",
      "\n",
      "[1 2 3 3 4 5]\n"
     ]
    }
   ],
   "source": [
    "# ravel function\n",
    "x = np.array([(1, 2, 3), (3, 4, 5)])\n",
    "print(x)\n",
    "print()\n",
    "print(x.ravel())"
   ]
  },
  {
   "cell_type": "code",
   "execution_count": 41,
   "metadata": {},
   "outputs": [
    {
     "name": "stdout",
     "output_type": "stream",
     "text": [
      "[1 2 3]\n",
      "\n",
      "[0.        1.        1.5849625]\n"
     ]
    }
   ],
   "source": [
    "a = np.array([1, 2, 3])\n",
    "print(a)\n",
    "print()\n",
    "print(np.log2(a))"
   ]
  },
  {
   "cell_type": "markdown",
   "metadata": {},
   "source": [
    "# Numpy Practise Example"
   ]
  },
  {
   "cell_type": "code",
   "execution_count": 46,
   "metadata": {},
   "outputs": [
    {
     "data": {
      "image/png": "[encoded data removed]",
      "text/plain": [
       "<Figure size 432x288 with 1 Axes>"
      ]
     },
     "metadata": {
      "needs_background": "light"
     },
     "output_type": "display_data"
    }
   ],
   "source": [
    "import numpy as np\n",
    "import matplotlib.pyplot as plt\n",
    "\n",
    "x = np.arange(0, 3 * np.pi, 0.1)\n",
    "#print(x)\n",
    "#print(\"------------------\")\n",
    "y = np.sin(x)\n",
    "#print(y)\n",
    "plt.plot(x, y)\n",
    "plt.show()"
   ]
  },
  {
   "cell_type": "code",
   "execution_count": 48,
   "metadata": {},
   "outputs": [
    {
     "name": "stdout",
     "output_type": "stream",
     "text": [
      "[[0 0 0 0 0 0]\n",
      " [0 0 0 0 0 0]\n",
      " [0 0 0 0 0 0]\n",
      " [0 0 0 0 0 0]\n",
      " [0 0 0 0 0 0]\n",
      " [0 0 0 0 0 0]]\n",
      "------------------\n",
      "[[0 0 0 0 0 0]\n",
      " [1 0 1 0 1 0]\n",
      " [0 0 0 0 0 0]\n",
      " [1 0 1 0 1 0]\n",
      " [0 0 0 0 0 0]\n",
      " [1 0 1 0 1 0]]\n"
     ]
    }
   ],
   "source": [
    "# Create a 6 * 6 two-d array, and let 1 and 0 be placed alternatively across the diagonals\n",
    "\n",
    "Z = np.zeros((6, 6), dtype = int)\n",
    "print(Z)\n",
    "print(\"------------------\")\n",
    "Z[1::2, ::2] = 1\n",
    "print(Z)"
   ]
  },
  {
   "cell_type": "code",
   "execution_count": 63,
   "metadata": {},
   "outputs": [
    {
     "name": "stdout",
     "output_type": "stream",
     "text": [
      "[[0.59621508 0.03860909 0.09363366 0.78825158 0.97599673 0.80698824\n",
      "  0.95369246 0.05081136 0.91312041 0.96814006]\n",
      " [0.71430391 0.88554216 0.21486256 0.35953649 0.43404492 0.68043469\n",
      "  0.23913951 0.92076427 0.90870589 0.48274492]\n",
      " [0.97772085 0.06639506 0.50267638        nan 0.21270534 0.61970464\n",
      "  0.5411872  0.93591587 0.96582366 0.11565363]\n",
      " [0.02535396 0.2327693  0.24657458 0.83870384 0.94301319 0.91149058\n",
      "  0.32612752 0.34138884 0.06852972 0.79832606]\n",
      " [0.49280028 0.82317477 0.18582447        nan 0.82101323 0.63548012\n",
      "  0.2256922  0.64975383 0.99920379 0.79824651]\n",
      " [0.64229881 0.19293757 0.84837055 0.3656374  0.85573726 0.75593797\n",
      "  0.5530788  0.65841755 0.59800399 0.46259676]\n",
      " [0.65046103 0.36287615 0.07982607 0.25249112 0.22452856 0.6153806\n",
      "  0.17067526 0.80123899 0.61793392 0.72131141]\n",
      " [0.45487412 0.61735542        nan 0.3474593  0.83379777 0.93789942\n",
      "  0.1550368  0.40410086        nan 0.81506463]\n",
      " [0.82922869 0.4757867  0.26310984 0.79704221 0.65619458 0.14837129\n",
      "  0.30498365        nan 0.60603723 0.52908922]\n",
      " [0.71524985 0.77719894 0.51630786 0.80440988 0.54874037 0.93521545\n",
      "  0.18053302 0.5459112  0.48343754 0.55266721]]\n",
      "5\n",
      "[[2 3]\n",
      " [4 3]\n",
      " [7 2]\n",
      " [7 8]\n",
      " [8 7]]\n"
     ]
    }
   ],
   "source": [
    "# Find the total number and locations of missing values in the array\n",
    "Z = np.random.rand(10, 10)\n",
    "Z[np.random.randint(10, size = 5), np.random.randint(10, size = 5)] = np.nan\n",
    "print(Z)\n",
    "print(np.isnan(Z).sum())\n",
    "print(np.argwhere(np.isnan(Z)))"
   ]
  },
  {
   "cell_type": "code",
   "execution_count": 64,
   "metadata": {},
   "outputs": [
    {
     "name": "stdout",
     "output_type": "stream",
     "text": [
      "[[0.59621508 0.03860909 0.09363366 0.78825158 0.97599673 0.80698824\n",
      "  0.95369246 0.05081136 0.91312041 0.96814006]\n",
      " [0.71430391 0.88554216 0.21486256 0.35953649 0.43404492 0.68043469\n",
      "  0.23913951 0.92076427 0.90870589 0.48274492]\n",
      " [0.97772085 0.06639506 0.50267638        nan 0.21270534 0.61970464\n",
      "  0.5411872  0.93591587 0.96582366 0.11565363]\n",
      " [0.02535396 0.2327693  0.24657458 0.83870384 0.94301319 0.91149058\n",
      "  0.32612752 0.34138884 0.06852972 0.79832606]\n",
      " [0.49280028 0.82317477 0.18582447        nan 0.82101323 0.63548012\n",
      "  0.2256922  0.64975383 0.99920379 0.79824651]\n",
      " [0.64229881 0.19293757 0.84837055 0.3656374  0.85573726 0.75593797\n",
      "  0.5530788  0.65841755 0.59800399 0.46259676]\n",
      " [0.65046103 0.36287615 0.07982607 0.25249112 0.22452856 0.6153806\n",
      "  0.17067526 0.80123899 0.61793392 0.72131141]\n",
      " [0.45487412 0.61735542        nan 0.3474593  0.83379777 0.93789942\n",
      "  0.1550368  0.40410086        nan 0.81506463]\n",
      " [0.82922869 0.4757867  0.26310984 0.79704221 0.65619458 0.14837129\n",
      "  0.30498365        nan 0.60603723 0.52908922]\n",
      " [0.71524985 0.77719894 0.51630786 0.80440988 0.54874037 0.93521545\n",
      "  0.18053302 0.5459112  0.48343754 0.55266721]]\n",
      "------------------\n",
      "[[False False False False False False False False False False]\n",
      " [False False False False False False False False False False]\n",
      " [False False False  True False False False False False False]\n",
      " [False False False False False False False False False False]\n",
      " [False False False  True False False False False False False]\n",
      " [False False False False False False False False False False]\n",
      " [False False False False False False False False False False]\n",
      " [False False  True False False False False False  True False]\n",
      " [False False False False False False False  True False False]\n",
      " [False False False False False False False False False False]]\n"
     ]
    }
   ],
   "source": [
    "print(Z)\n",
    "print(\"------------------\")\n",
    "print(np.isnan(Z))"
   ]
  },
  {
   "cell_type": "code",
   "execution_count": 65,
   "metadata": {},
   "outputs": [
    {
     "name": "stdout",
     "output_type": "stream",
     "text": [
      "------------------\n",
      "(array([2, 4, 7, 7, 8]), array([3, 3, 2, 8, 7]))\n"
     ]
    },
    {
     "data": {
      "text/plain": [
       "array([[0.59621508, 0.03860909, 0.09363366, 0.78825158, 0.97599673,\n",
       "        0.80698824, 0.95369246, 0.05081136, 0.91312041, 0.96814006],\n",
       "       [0.71430391, 0.88554216, 0.21486256, 0.35953649, 0.43404492,\n",
       "        0.68043469, 0.23913951, 0.92076427, 0.90870589, 0.48274492],\n",
       "       [0.97772085, 0.06639506, 0.50267638,        nan, 0.21270534,\n",
       "        0.61970464, 0.5411872 , 0.93591587, 0.96582366, 0.11565363],\n",
       "       [0.02535396, 0.2327693 , 0.24657458, 0.83870384, 0.94301319,\n",
       "        0.91149058, 0.32612752, 0.34138884, 0.06852972, 0.79832606],\n",
       "       [0.49280028, 0.82317477, 0.18582447,        nan, 0.82101323,\n",
       "        0.63548012, 0.2256922 , 0.64975383, 0.99920379, 0.79824651],\n",
       "       [0.64229881, 0.19293757, 0.84837055, 0.3656374 , 0.85573726,\n",
       "        0.75593797, 0.5530788 , 0.65841755, 0.59800399, 0.46259676],\n",
       "       [0.65046103, 0.36287615, 0.07982607, 0.25249112, 0.22452856,\n",
       "        0.6153806 , 0.17067526, 0.80123899, 0.61793392, 0.72131141],\n",
       "       [0.45487412, 0.61735542,        nan, 0.3474593 , 0.83379777,\n",
       "        0.93789942, 0.1550368 , 0.40410086,        nan, 0.81506463],\n",
       "       [0.82922869, 0.4757867 , 0.26310984, 0.79704221, 0.65619458,\n",
       "        0.14837129, 0.30498365,        nan, 0.60603723, 0.52908922],\n",
       "       [0.71524985, 0.77719894, 0.51630786, 0.80440988, 0.54874037,\n",
       "        0.93521545, 0.18053302, 0.5459112 , 0.48343754, 0.55266721]])"
      ]
     },
     "execution_count": 65,
     "metadata": {},
     "output_type": "execute_result"
    }
   ],
   "source": [
    "#print(Z)\n",
    "print(\"------------------\")\n",
    "inds = np.where(np.isnan(Z))\n",
    "print(inds)\n",
    "Z[inds] = np.nan\n",
    "Z"
   ]
  },
  {
   "cell_type": "code",
   "execution_count": 70,
   "metadata": {},
   "outputs": [
    {
     "name": "stdout",
     "output_type": "stream",
     "text": [
      "[[-1.97662018 -1.44200405  0.40633859]\n",
      " [ 1.15929341 -1.06059187  0.8614988 ]\n",
      " [ 2.68078667 -1.32788465  0.64948191]]\n",
      "------------------\n",
      "[[-1.97662018 -1.44200405  0.40633859]\n",
      " [ 1.15929341 10.          0.8614988 ]\n",
      " [ 2.68078667 -1.32788465 10.        ]]\n"
     ]
    }
   ],
   "source": [
    "z = np.random.randn(3, 3)\n",
    "print(z)\n",
    "print(\"------------------\")\n",
    "z[[1, 2], [1, 2]] = 10\n",
    "print(z)"
   ]
  },
  {
   "cell_type": "code",
   "execution_count": null,
   "metadata": {},
   "outputs": [],
   "source": []
  }
 ],
 "metadata": {
  "kernelspec": {
   "display_name": "Python 3",
   "language": "python",
   "name": "python3"
  },
  "language_info": {
   "codemirror_mode": {
    "name": "ipython",
    "version": 3
   },
   "file_extension": ".py",
   "mimetype": "text/x-python",
   "name": "python",
   "nbconvert_exporter": "python",
   "pygments_lexer": "ipython3",
   "version": "3.7.4"
  }
 },
 "nbformat": 4,
 "nbformat_minor": 2
}
